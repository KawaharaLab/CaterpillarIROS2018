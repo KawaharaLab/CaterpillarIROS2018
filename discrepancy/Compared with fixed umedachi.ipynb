{
 "cells": [
  {
   "cell_type": "code",
   "execution_count": 1,
   "metadata": {
    "collapsed": true
   },
   "outputs": [],
   "source": [
    "import numpy as np\n",
    "import pandas as pd\n",
    "import os\n",
    "import re\n",
    "import matplotlib.pyplot as plt\n",
    "import matplotlib\n",
    "%matplotlib inline"
   ]
  },
  {
   "cell_type": "code",
   "execution_count": 20,
   "metadata": {},
   "outputs": [],
   "source": [
    "def locomotion_mean_std(dir_path: str):\n",
    "    distances = []\n",
    "    for trial in os.listdir(dir_path):\n",
    "        file_path = os.path.join(dir_path, trial, \"run/distance.txt\")\n",
    "        with open(file_path, 'r') as f:\n",
    "            last_line = f.readlines()[-1]\n",
    "            d = float(last_line.strip().split(',')[1])\n",
    "            distances.append(d)\n",
    "    distances = np.array(distances)\n",
    "    return np.mean(distances), np.std(distances)"
   ]
  },
  {
   "cell_type": "code",
   "execution_count": 23,
   "metadata": {},
   "outputs": [],
   "source": [
    "discrep_mean, discrep_err = locomotion_mean_std(\"results/discrepance/run1/\")"
   ]
  },
  {
   "cell_type": "code",
   "execution_count": 22,
   "metadata": {
    "collapsed": true
   },
   "outputs": [],
   "source": [
    "fixed_umedachi_moved_distance = 4.317627354559529"
   ]
  },
  {
   "cell_type": "code",
   "execution_count": 38,
   "metadata": {},
   "outputs": [
    {
     "data": {
      "image/png": "[encoded data removed]",
      "text/plain": [
       "<matplotlib.figure.Figure at 0x10e717a20>"
      ]
     },
     "metadata": {},
     "output_type": "display_data"
    }
   ],
   "source": [
    "bar_width = 0.6\n",
    "x = [0, 1]\n",
    "\n",
    "plt.bar(x, [discrep_mean, fixed_umedachi_moved_distance], bar_width, yerr=[discrep_err, 0], ecolor='red')\n",
    "\n",
    "plt.xticks(x, [\"Discrepancy Function\", \"Fixed Umedachi\"])\n",
    "plt.ylabel(\"Locomotion distance per 10000 steps\")\n",
    "\n",
    "plt.savefig(\"graphs/LocomotionComparison_run0_FixedUmedachi.png\")"
   ]
  },
  {
   "cell_type": "code",
   "execution_count": null,
   "metadata": {
    "collapsed": true
   },
   "outputs": [],
   "source": []
  }
 ],
 "metadata": {
  "kernelspec": {
   "display_name": "Python 3",
   "language": "python",
   "name": "python3"
  },
  "language_info": {
   "codemirror_mode": {
    "name": "ipython",
    "version": 3
   },
   "file_extension": ".py",
   "mimetype": "text/x-python",
   "name": "python",
   "nbconvert_exporter": "python",
   "pygments_lexer": "ipython3",
   "version": "3.6.1"
  }
 },
 "nbformat": 4,
 "nbformat_minor": 2
}
